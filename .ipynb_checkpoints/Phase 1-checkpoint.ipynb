{
 "cells": [
  {
   "cell_type": "markdown",
   "id": "e59caae6",
   "metadata": {},
   "source": [
    "# MP Phase 1"
   ]
  },
  {
   "cell_type": "markdown",
   "id": "71b9c1e3",
   "metadata": {},
   "source": [
    "## Dataset Description"
   ]
  },
  {
   "cell_type": "markdown",
   "id": "47673d74",
   "metadata": {},
   "source": [
    "## Exploratory Data Analysis"
   ]
  },
  {
   "cell_type": "markdown",
   "id": "4a26f6bd",
   "metadata": {},
   "source": [
    "## Research Question"
   ]
  }
 ],
 "metadata": {
  "kernelspec": {
   "display_name": "Python 3 (ipykernel)",
   "language": "python",
   "name": "python3"
  },
  "language_info": {
   "codemirror_mode": {
    "name": "ipython",
    "version": 3
   },
   "file_extension": ".py",
   "mimetype": "text/x-python",
   "name": "python",
   "nbconvert_exporter": "python",
   "pygments_lexer": "ipython3",
   "version": "3.9.12"
  }
 },
 "nbformat": 4,
 "nbformat_minor": 5
}
